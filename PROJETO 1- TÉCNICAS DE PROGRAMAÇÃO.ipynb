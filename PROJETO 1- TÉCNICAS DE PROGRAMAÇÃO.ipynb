{
 "cells": [
  {
   "cell_type": "code",
   "execution_count": 0,
   "metadata": {
    "application/vnd.databricks.v1+cell": {
     "cellMetadata": {
      "byteLimit": 2048000,
      "rowLimit": 10000
     },
     "inputWidgets": {},
     "nuid": "dda545ef-e129-42f4-815c-f760af06deac",
     "showTitle": false,
     "title": ""
    }
   },
   "outputs": [
    {
     "output_type": "stream",
     "name": "stdout",
     "output_type": "stream",
     "text": [
      "Resultado do lançamento: 7\n"
     ]
    }
   ],
   "source": [
    "import random\n",
    "\n",
    "def lancamento_dados():\n",
    "    \n",
    "    dado1 = random.randint(1, 6)\n",
    "    dado2 = random.randint(1, 6)\n",
    "    \n",
    "    \n",
    "    return dado1 + dado2\n",
    "\n",
    "resultado_lancamento = lancamento_dados()\n",
    "print(f\"Resultado do lançamento: {resultado_lancamento}\")"
   ]
  },
  {
   "cell_type": "code",
   "execution_count": 0,
   "metadata": {
    "application/vnd.databricks.v1+cell": {
     "cellMetadata": {
      "byteLimit": 2048000,
      "rowLimit": 10000
     },
     "inputWidgets": {},
     "nuid": "c68ede9c-0c6b-475d-8464-78ec58ea1527",
     "showTitle": false,
     "title": ""
    }
   },
   "outputs": [
    {
     "output_type": "stream",
     "name": "stdout",
     "output_type": "stream",
     "text": [
      "Exemplo dos primeiros 10 resultados:\n[ 9  9  7 11  8 10  6  2  7  9]\n\nEstatísticas dos resultados:\nMédia: 6.98\nSoma: 6977\n"
     ]
    }
   ],
   "source": [
    "import random\n",
    "import numpy as np\n",
    "\n",
    "def lancamento_dados():\n",
    "    dado1 = random.randint(1, 7)\n",
    "    dado2 = random.randint(1, 7)\n",
    "    return dado1 + dado2\n",
    "\n",
    "num_jogos = 1000\n",
    "resultados = np.array([lancamento_dados() for _ in range(num_jogos)])\n",
    "\n",
    "# Primeiros 10 resultados \n",
    "print(\"Exemplo dos primeiros 10 resultados:\")\n",
    "print(resultados[:10])\n",
    "\n",
    "# Média e a Soma dos Resultados\n",
    "media_resultados = np.mean(resultados)\n",
    "soma_resultados = np.sum(resultados)\n",
    "\n",
    "print(\"\\nEstatísticas dos resultados:\")\n",
    "print(f\"Média: {media_resultados:.2f}\")\n",
    "print(f\"Soma: {soma_resultados}\")"
   ]
  },
  {
   "cell_type": "code",
   "execution_count": 0,
   "metadata": {
    "application/vnd.databricks.v1+cell": {
     "cellMetadata": {
      "byteLimit": 2048000,
      "rowLimit": 10000
     },
     "inputWidgets": {},
     "nuid": "eaf0c6b4-0c48-4062-9f8b-d2396276052f",
     "showTitle": false,
     "title": ""
    }
   },
   "outputs": [
    {
     "output_type": "stream",
     "name": "stdout",
     "output_type": "stream",
     "text": [
      "Média dos resultados: 6.98\nLançamento máximo: 12\nLançamento mínimo: 2\nNúmero de vezes que 2 ocorreu: 0\nNúmero de vezes que 3 ocorreu: 23\nNúmero de vezes que 4 ocorreu: 52\nNúmero de vezes que 5 ocorreu: 81\nNúmero de vezes que 6 ocorreu: 125\nNúmero de vezes que 7 ocorreu: 149\nNúmero de vezes que 8 ocorreu: 167\nNúmero de vezes que 9 ocorreu: 137\nNúmero de vezes que 10 ocorreu: 98\nNúmero de vezes que 11 ocorreu: 88\nNúmero de vezes que 12 ocorreu: 55\nNúmero de vezes que 13 ocorreu: 25\n\nO resultado da simulação não coincide completamente com a suposição de um jogo justo.\n"
     ]
    }
   ],
   "source": [
    "import numpy as np\n",
    "\n",
    "media_resultados = np.mean(resultados)\n",
    "print(f\"Média dos resultados: {media_resultados:.2f}\")\n",
    "\n",
    "maximo_resultado = np.max(resultados)\n",
    "minimo_resultado = np.min(resultados)\n",
    "print(f\"Lançamento máximo: {maximo_resultado}\")\n",
    "print(f\"Lançamento mínimo: {minimo_resultado}\")\n",
    "\n",
    "\n",
    "contagem_lancamentos = np.bincount(resultados)[1:]\n",
    "for i, contagem in enumerate(contagem_lancamentos, start=2):\n",
    "    print(f\"Número de vezes que {i} ocorreu: {contagem}\")\n",
    "\n",
    "probabilidade_esperada = 1/6  # Em um dado justo, cada resultado tem probabilidade 1/6 de ocorrer\n",
    "\n",
    "\n",
    "if np.isclose(media_resultados/6, probabilidade_esperada, atol=0.02):\n",
    "    print(\"\\nO resultado da simulação coincide com a suposição de um jogo justo.\")\n",
    "else:\n",
    "    print(\"\\nO resultado da simulação não coincide completamente com a suposição de um jogo justo.\")\n"
   ]
  }
 ],
 "metadata": {
  "application/vnd.databricks.v1+notebook": {
   "dashboards": [],
   "language": "python",
   "notebookMetadata": {
    "pythonIndentUnit": 4
   },
   "notebookName": "PROJETO 1- TÉCNICAS DE PROGRAMAÇÃO",
   "widgets": {}
  }
 },
 "nbformat": 4,
 "nbformat_minor": 0
}
